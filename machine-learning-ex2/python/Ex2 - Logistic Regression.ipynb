{
 "cells": [
  {
   "cell_type": "code",
   "execution_count": 2,
   "metadata": {},
   "outputs": [],
   "source": [
    "import numpy as np\n",
    "import matplotlib.pyplot as plt\n",
    "from scipy.optimize import minimize"
   ]
  },
  {
   "cell_type": "markdown",
   "metadata": {},
   "source": [
    "** Get the input data  and save into X and Y matrices **"
   ]
  },
  {
   "cell_type": "code",
   "execution_count": 5,
   "metadata": {
    "scrolled": true
   },
   "outputs": [],
   "source": [
    "data = np.genfromtxt('ex2data1.txt', delimiter=',')\n",
    "\n",
    "def matrix (inputarray):\n",
    "    '''\n",
    "    Takes numpy arrays of size m x n+1, where m is the number of rows and n is the number columns in X (not including x0)\n",
    "    and the last column of the array is the Y vector. e.g.: x1,x2,...,xn, Y and then returns two numpy arrays:\n",
    "         - X: X0,X1,X2,...,Xn where X0 is the ones vector size m\n",
    "         - Y: Y \n",
    "    '''\n",
    "    m = inputarray.shape[0]\n",
    "    n = inputarray.shape[1]-1\n",
    "    \n",
    "    xones = np.ones((m,1)).reshape(m,1) # Reshape to make sure it is a column\n",
    "    X = inputarray[:,0:n] # Matrix x1 to xn, note is the matrix wihtout x0\n",
    "    X = np.c_[xones,X] # Maxtrix X, the matrix x0, x1, ... xn\n",
    "    \n",
    "    y = inputarray[:,-1].reshape((m,1))\n",
    "    \n",
    "    return X, y\n",
    "\n",
    "X, y = matrix(data)\n",
    "m, n = X.shape\n"
   ]
  },
  {
   "cell_type": "markdown",
   "metadata": {},
   "source": [
    "** Visualise Data **"
   ]
  },
  {
   "cell_type": "code",
   "execution_count": 6,
   "metadata": {},
   "outputs": [
    {
     "data": {
      "image/png": "[encoded data removed]",
      "text/plain": [
       "<Figure size 576x360 with 1 Axes>"
      ]
     },
     "metadata": {},
     "output_type": "display_data"
    }
   ],
   "source": [
    "pos = np.where(y == 1)[0] # Creates a vector with the positions where y=1, admitted\n",
    "neg = np.where(y == 0)[0] # Creates a vector with the positions where y=0, not admitted\n",
    "\n",
    "plt.figure(figsize=(8,5))\n",
    "plt.scatter(X[pos, 1], X[pos, 2], marker='+', c='b')\n",
    "plt.scatter(X[neg, 1], X[neg, 2], marker='o', c='y')\n",
    "\n",
    "\n",
    "plt.xlabel('Exam 1 score')\n",
    "plt.ylabel('Exam 2 score')\n",
    "plt.legend(['Admitted', 'Not Admitted'])\n",
    "\n",
    "plt.show()"
   ]
  },
  {
   "cell_type": "markdown",
   "metadata": {},
   "source": [
    "** Define the Sigmoid function **\n"
   ]
  },
  {
   "cell_type": "code",
   "execution_count": 9,
   "metadata": {},
   "outputs": [],
   "source": [
    "def sig (z):\n",
    "    '''\n",
    "    Takes scalar or np.array to calculate the element-wise sigmoid function and returns scalar or np.array\n",
    "    '''\n",
    "    return 1/(1+np.exp(-z))"
   ]
  },
  {
   "cell_type": "markdown",
   "metadata": {},
   "source": [
    "** Test the Sigmoid function**"
   ]
  },
  {
   "cell_type": "code",
   "execution_count": 51,
   "metadata": {},
   "outputs": [
    {
     "data": {
      "image/png": "[encoded data removed]",
      "text/plain": [
       "<Figure size 720x144 with 1 Axes>"
      ]
     },
     "metadata": {},
     "output_type": "display_data"
    }
   ],
   "source": [
    "sigX =  np.linspace(-8,8,100)\n",
    "sigY =  sig(sigX)\n",
    "\n",
    "plt.figure(figsize=(10,2))\n",
    "plt.plot(sigX,sigY)\n",
    "plt.xlabel('z')\n",
    "plt.ylabel('g(z)')\n",
    "plt.grid(True)\n",
    "\n",
    "plt.show()"
   ]
  },
  {
   "cell_type": "markdown",
   "metadata": {},
   "source": [
    "** Cost Function **"
   ]
  },
  {
   "cell_type": "code",
   "execution_count": 31,
   "metadata": {},
   "outputs": [],
   "source": [
    "def cost(theta,X,y):\n",
    "    m,n = X.shape;\n",
    "    theta = theta.reshape((n,1)) # Note the minimize formula might input theta vector of a different shape, hence the conversion\n",
    "    h0 = sig(X @ theta)\n",
    "    m = y.shape[0]\n",
    "    J = (- y.T @ np.log(h0) - (1-y.T) @ np.log(1-h0))/m \n",
    "    return J"
   ]
  },
  {
   "cell_type": "markdown",
   "metadata": {},
   "source": [
    "** Test the cost function**"
   ]
  },
  {
   "cell_type": "code",
   "execution_count": 29,
   "metadata": {},
   "outputs": [
    {
     "name": "stdout",
     "output_type": "stream",
     "text": [
      "[[0.69314718]]\n",
      "[[0.21833019]]\n"
     ]
    }
   ],
   "source": [
    "theta = np.zeros(3)\n",
    "print(cost(theta,X,y))\n",
    "theta = np.array((-24,0.2,0.2))\n",
    "print(cost (theta,X,y))"
   ]
  },
  {
   "cell_type": "markdown",
   "metadata": {},
   "source": [
    "** Gradient Function **"
   ]
  },
  {
   "cell_type": "code",
   "execution_count": 24,
   "metadata": {},
   "outputs": [],
   "source": [
    "def grad(theta,X,y):\n",
    "    theta = theta.reshape((n,1)) # Note the minimize formula might input theta vector of a different shape, hence the conversion\n",
    "    y = y.reshape((m,1))\n",
    "    h0= sig(X @ theta)\n",
    "    grad = X.T @ (h0-y)/m\n",
    "    return grad.flatten()"
   ]
  },
  {
   "cell_type": "markdown",
   "metadata": {},
   "source": [
    "** Test Gradient Function ** \n",
    "    "
   ]
  },
  {
   "cell_type": "code",
   "execution_count": 20,
   "metadata": {},
   "outputs": [
    {
     "data": {
      "text/plain": [
       "array([ -0.1       , -12.00921659, -11.26284221])"
      ]
     },
     "execution_count": 20,
     "metadata": {},
     "output_type": "execute_result"
    }
   ],
   "source": [
    "theta = np.zeros(n)\n",
    "grad(theta,X,y)"
   ]
  },
  {
   "cell_type": "markdown",
   "metadata": {},
   "source": [
    "** Solve Minimization problem**"
   ]
  },
  {
   "cell_type": "code",
   "execution_count": 52,
   "metadata": {},
   "outputs": [
    {
     "name": "stdout",
     "output_type": "stream",
     "text": [
      "TNC:\n",
      "[-25.16131869   0.20623159   0.20147149]\n",
      "BFGS:\n",
      "[-25.16133284   0.2062317    0.2014716 ]\n"
     ]
    },
    {
     "name": "stderr",
     "output_type": "stream",
     "text": [
      "C:\\ProgramData\\Anaconda3\\lib\\site-packages\\ipykernel_launcher.py:6: RuntimeWarning: divide by zero encountered in log\n",
      "  \n"
     ]
    }
   ],
   "source": [
    "theta = np.zeros(n)\n",
    "#minimization by \n",
    "resultTNC = minimize(fun=cost, x0= theta, args = (X,y), method ='TNC', jac=grad).x\n",
    "resultBFGS = minimize(fun=cost, x0= theta, args = (X,y), method ='BFGS', jac=grad).x\n",
    "\n",
    "print ('TNC:')\n",
    "print (resultTNC)\n",
    "print ('BFGS:')\n",
    "print (resultBFGS)"
   ]
  },
  {
   "cell_type": "markdown",
   "metadata": {},
   "source": [
    "**Check some prediction**"
   ]
  },
  {
   "cell_type": "code",
   "execution_count": 116,
   "metadata": {},
   "outputs": [
    {
     "data": {
      "text/plain": [
       "array([[ True]])"
      ]
     },
     "execution_count": 116,
     "metadata": {},
     "output_type": "execute_result"
    }
   ],
   "source": [
    "def prediction(theta, X):\n",
    "    m,n = X.shape\n",
    "    theta = theta.reshape((n,1))\n",
    "    return sig(X @ theta)>=0.5\n",
    "\n",
    "theta = resultBFGS\n",
    "\n",
    "ScoreTest1 = 45\n",
    "ScoreTest2 = 85\n",
    "\n",
    "input1 = np.array([[1,ScoreTest1,ScoreTest2]])\n",
    "\n",
    "prediction(theta,input1)\n",
    "\n"
   ]
  },
  {
   "cell_type": "markdown",
   "metadata": {},
   "source": [
    "** Test Accuracy on training set **"
   ]
  },
  {
   "cell_type": "code",
   "execution_count": 121,
   "metadata": {},
   "outputs": [
    {
     "data": {
      "text/plain": [
       "0.89"
      ]
     },
     "execution_count": 121,
     "metadata": {},
     "output_type": "execute_result"
    }
   ],
   "source": [
    "np.mean(prediction(theta,X) == y)"
   ]
  }
 ],
 "metadata": {
  "kernelspec": {
   "display_name": "Python 3",
   "language": "python",
   "name": "python3"
  },
  "language_info": {
   "codemirror_mode": {
    "name": "ipython",
    "version": 3
   },
   "file_extension": ".py",
   "mimetype": "text/x-python",
   "name": "python",
   "nbconvert_exporter": "python",
   "pygments_lexer": "ipython3",
   "version": "3.6.5"
  }
 },
 "nbformat": 4,
 "nbformat_minor": 2
}
