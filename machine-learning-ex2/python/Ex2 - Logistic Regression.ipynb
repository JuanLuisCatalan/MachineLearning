{
 "cells": [
  {
   "cell_type": "code",
   "execution_count": 40,
   "metadata": {},
   "outputs": [],
   "source": [
    "import numpy as np\n",
    "import matplotlib.pyplot as plt\n",
    "from scipy.optimize import minimize"
   ]
  },
  {
   "cell_type": "markdown",
   "metadata": {},
   "source": [
    "** Get the input data  and save into X and Y matrices **"
   ]
  },
  {
   "cell_type": "code",
   "execution_count": 148,
   "metadata": {
    "scrolled": true
   },
   "outputs": [],
   "source": [
    "data = np.genfromtxt('ex2data1.txt', delimiter=',')\n",
    "\n",
    "def matrix (inputarray):\n",
    "    '''\n",
    "    Takes numpy arrays of size m x n+1, where m is the number of rows and n is the number columns in X (not including x0)\n",
    "    and the last column of the array is the Y vector. e.g.: x1,x2,...,xn, Y and then returns two numpy arrays:\n",
    "         - X: X0,X1,X2,...,Xn where X0 is the ones vector size m\n",
    "         - Y: Y \n",
    "    '''\n",
    "    m = inputarray.shape[0]\n",
    "    n = inputarray.shape[1]-1\n",
    "    \n",
    "    xones = np.ones((m,1)).reshape(m,1) # Reshape to make sure it is a column\n",
    "    X = inputarray[:,0:n] # Matrix x1 to xn, note is the matrix wihtout x0\n",
    "    X = np.c_[xones,X] # Maxtrix X, the matrix x0, x1, ... xn\n",
    "    \n",
    "    y = inputarray[:,-1]\n",
    "    \n",
    "    return X, y\n",
    "\n",
    "X = matrix(data)[0]\n",
    "y = matrix(data)[1]"
   ]
  },
  {
   "cell_type": "markdown",
   "metadata": {},
   "source": [
    "** Visualise Data **"
   ]
  },
  {
   "cell_type": "code",
   "execution_count": 149,
   "metadata": {},
   "outputs": [
    {
     "data": {
      "image/png": "[encoded data removed]",
      "text/plain": [
       "<Figure size 576x360 with 1 Axes>"
      ]
     },
     "metadata": {},
     "output_type": "display_data"
    }
   ],
   "source": [
    "pos = np.where(y == 1)[0] # Creates a vector with the positions where y=1, admitted\n",
    "neg = np.where(y == 0)[0] # Creates a vector with the positions where y=0, not admitted\n",
    "\n",
    "plt.figure(figsize=(8,5))\n",
    "plt.scatter(X[pos, 1], X[pos, 2], marker='+', c='b')\n",
    "plt.scatter(X[neg, 1], X[neg, 2], marker='o', c='y')\n",
    "\n",
    "\n",
    "plt.xlabel('Exam 1 score')\n",
    "plt.ylabel('Exam 2 score')\n",
    "plt.legend(['Not Admitted', 'Admitted'])\n",
    "\n",
    "plt.show()"
   ]
  },
  {
   "cell_type": "markdown",
   "metadata": {},
   "source": [
    "** Define the Sigmoid function **\n",
    "\\begin{align*}& h_\\theta (x) = g ( \\theta^T x ) \\newline \\newline& z = \\theta^T x \\newline& g(z) = \\dfrac{1}{1 + e^{-z}}\\end{align*}"
   ]
  },
  {
   "cell_type": "code",
   "execution_count": 150,
   "metadata": {},
   "outputs": [
    {
     "data": {
      "image/png": "[encoded data removed]",
      "text/plain": [
       "<Figure size 576x144 with 1 Axes>"
      ]
     },
     "metadata": {},
     "output_type": "display_data"
    }
   ],
   "source": [
    "def sig (z):\n",
    "    '''\n",
    "    Takes scalar or np.array to calculate the element-wise sigmoid function and returns scalar or np.array\n",
    "    '''\n",
    "    return 1/(1+np.exp(-z))\n",
    "\n",
    "sigX =  np.linspace(-5,5,100)\n",
    "sigY =  sig(sigX)\n",
    "\n",
    "plt.figure(figsize=(8,2))\n",
    "plt.plot(sigX,sigY)\n",
    "plt.xlabel('z')\n",
    "plt.ylabel('g(z)')\n",
    "plt.grid(True)\n",
    "\n",
    "plt.show()\n",
    "\n"
   ]
  },
  {
   "cell_type": "markdown",
   "metadata": {},
   "source": [
    "** Cost Function **"
   ]
  },
  {
   "cell_type": "code",
   "execution_count": null,
   "metadata": {},
   "outputs": [],
   "source": [
    "def cost (theta,X,y):\n",
    "    h0 = sig(X @ theta)\n",
    "    m = y.shape[0]\n",
    "    cost = (- y.conj().T @ np.log(h0) - (1-y.conj().T) @ np.log(1-h0))/m \n",
    "    return cost"
   ]
  },
  {
   "cell_type": "code",
   "execution_count": 162,
   "metadata": {},
   "outputs": [
    {
     "name": "stdout",
     "output_type": "stream",
     "text": [
      "[0.69314718]\n",
      "[0.21833019]\n"
     ]
    }
   ],
   "source": [
    "theta = np.zeros((3,1))\n",
    "print(cost(theta,X,y))\n",
    "\n",
    "theta = np.array([[-24],[0.2],[0.2]])\n",
    "print(cost (theta,X,y))"
   ]
  },
  {
   "cell_type": "markdown",
   "metadata": {},
   "source": [
    "** Gradient Function **"
   ]
  },
  {
   "cell_type": "code",
   "execution_count": null,
   "metadata": {},
   "outputs": [],
   "source": [
    "def grad(theta,X,y):\n",
    "    m = X.shape[0]\n",
    "    h0 = sig(X @ theta)\n",
    "    grad = X.T @ (h0 - y) / m\n",
    "    return grad"
   ]
  },
  {
   "cell_type": "markdown",
   "metadata": {},
   "source": [
    "** Solver Minimization **"
   ]
  },
  {
   "cell_type": "code",
   "execution_count": 186,
   "metadata": {},
   "outputs": [
    {
     "name": "stderr",
     "output_type": "stream",
     "text": [
      "C:\\ProgramData\\Anaconda3\\lib\\site-packages\\ipykernel_launcher.py:4: RuntimeWarning: divide by zero encountered in log\n",
      "  after removing the cwd from sys.path.\n"
     ]
    }
   ],
   "source": [
    "theta = np.zeros((3,1))\n",
    "result1 = minimize(fun=cost, x0= theta, args = (X,y), method ='BFGS', jac=grad).x"
   ]
  },
  {
   "cell_type": "code",
   "execution_count": 178,
   "metadata": {},
   "outputs": [
    {
     "data": {
      "text/plain": [
       "array([-25.16133284,   0.2062317 ,   0.2014716 ])"
      ]
     },
     "execution_count": 178,
     "metadata": {},
     "output_type": "execute_result"
    }
   ],
   "source": [
    "result1"
   ]
  },
  {
   "cell_type": "code",
   "execution_count": 181,
   "metadata": {},
   "outputs": [],
   "source": [
    "theta = np.zeros((3,1))\n",
    "result2 = minimize(fun=cost, x0= theta, args = (X,y), method ='TNC', jac=grad).x"
   ]
  },
  {
   "cell_type": "code",
   "execution_count": 183,
   "metadata": {},
   "outputs": [
    {
     "data": {
      "text/plain": [
       "array([-25.16131869,   0.20623159,   0.20147149])"
      ]
     },
     "execution_count": 183,
     "metadata": {},
     "output_type": "execute_result"
    }
   ],
   "source": [
    "result2"
   ]
  },
  {
   "cell_type": "code",
   "execution_count": 187,
   "metadata": {},
   "outputs": [
    {
     "data": {
      "text/plain": [
       "array([-1.41466802e-05,  1.08280788e-07,  1.15793294e-07])"
      ]
     },
     "execution_count": 187,
     "metadata": {},
     "output_type": "execute_result"
    }
   ],
   "source": [
    "result1 - result2"
   ]
  }
 ],
 "metadata": {
  "kernelspec": {
   "display_name": "Python 3",
   "language": "python",
   "name": "python3"
  },
  "language_info": {
   "codemirror_mode": {
    "name": "ipython",
    "version": 3
   },
   "file_extension": ".py",
   "mimetype": "text/x-python",
   "name": "python",
   "nbconvert_exporter": "python",
   "pygments_lexer": "ipython3",
   "version": "3.6.5"
  }
 },
 "nbformat": 4,
 "nbformat_minor": 2
}
