{
 "cells": [
  {
   "cell_type": "code",
   "execution_count": 25,
   "metadata": {},
   "outputs": [],
   "source": [
    "import numpy as np\n",
    "import scipy.linalg as linalg"
   ]
  },
  {
   "cell_type": "markdown",
   "metadata": {},
   "source": [
    "** Define Matrices using the numpy array class.**"
   ]
  },
  {
   "cell_type": "code",
   "execution_count": 8,
   "metadata": {},
   "outputs": [],
   "source": [
    "A = np.array([[1,2],[3,4],[5,6]])\n",
    "B = np.array([[1,2],[3,4]])"
   ]
  },
  {
   "cell_type": "code",
   "execution_count": 10,
   "metadata": {},
   "outputs": [
    {
     "data": {
      "text/plain": [
       "array([[1, 2],\n",
       "       [3, 4],\n",
       "       [5, 6]])"
      ]
     },
     "execution_count": 10,
     "metadata": {},
     "output_type": "execute_result"
    }
   ],
   "source": [
    "A"
   ]
  },
  {
   "cell_type": "code",
   "execution_count": 11,
   "metadata": {},
   "outputs": [
    {
     "data": {
      "text/plain": [
       "array([[1, 2],\n",
       "       [3, 4]])"
      ]
     },
     "execution_count": 11,
     "metadata": {},
     "output_type": "execute_result"
    }
   ],
   "source": [
    "B"
   ]
  },
  {
   "cell_type": "markdown",
   "metadata": {},
   "source": [
    "** Matrix multiplication **"
   ]
  },
  {
   "cell_type": "code",
   "execution_count": 16,
   "metadata": {},
   "outputs": [
    {
     "data": {
      "text/plain": [
       "array([[ 7, 10],\n",
       "       [15, 22],\n",
       "       [23, 34]])"
      ]
     },
     "execution_count": 16,
     "metadata": {},
     "output_type": "execute_result"
    }
   ],
   "source": [
    "C = A@B\n",
    "C"
   ]
  },
  {
   "cell_type": "markdown",
   "metadata": {},
   "source": [
    "** Matrix multiplication element-wise **"
   ]
  },
  {
   "cell_type": "code",
   "execution_count": 17,
   "metadata": {},
   "outputs": [
    {
     "data": {
      "text/plain": [
       "array([[  7,  20],\n",
       "       [ 45,  88],\n",
       "       [115, 204]])"
      ]
     },
     "execution_count": 17,
     "metadata": {},
     "output_type": "execute_result"
    }
   ],
   "source": [
    "A*C"
   ]
  },
  {
   "cell_type": "markdown",
   "metadata": {},
   "source": [
    "** Matrix Transpose ** "
   ]
  },
  {
   "cell_type": "code",
   "execution_count": 24,
   "metadata": {},
   "outputs": [
    {
     "data": {
      "text/plain": [
       "array([[1, 3, 5],\n",
       "       [2, 4, 6]])"
      ]
     },
     "execution_count": 24,
     "metadata": {},
     "output_type": "execute_result"
    }
   ],
   "source": [
    "A.conj().T"
   ]
  },
  {
   "cell_type": "markdown",
   "metadata": {},
   "source": [
    " ** Matrix times scalar **"
   ]
  },
  {
   "cell_type": "code",
   "execution_count": 26,
   "metadata": {},
   "outputs": [
    {
     "data": {
      "text/plain": [
       "array([[ 2,  4],\n",
       "       [ 6,  8],\n",
       "       [10, 12]])"
      ]
     },
     "execution_count": 26,
     "metadata": {},
     "output_type": "execute_result"
    }
   ],
   "source": [
    "A*2"
   ]
  },
  {
   "cell_type": "markdown",
   "metadata": {},
   "source": [
    "** Inverse Matrix **"
   ]
  },
  {
   "cell_type": "code",
   "execution_count": 36,
   "metadata": {},
   "outputs": [
    {
     "data": {
      "text/plain": [
       "array([[-2. ,  1. ],\n",
       "       [ 1.5, -0.5]])"
      ]
     },
     "execution_count": 36,
     "metadata": {},
     "output_type": "execute_result"
    }
   ],
   "source": [
    "iB = linalg.pinv(B)\n",
    "iB"
   ]
  },
  {
   "cell_type": "code",
   "execution_count": 38,
   "metadata": {},
   "outputs": [
    {
     "data": {
      "text/plain": [
       "array([[ 1.00000000e+00, -6.66133815e-16],\n",
       "       [ 0.00000000e+00,  1.00000000e+00]])"
      ]
     },
     "execution_count": 38,
     "metadata": {},
     "output_type": "execute_result"
    }
   ],
   "source": [
    "B@iB"
   ]
  },
  {
   "cell_type": "markdown",
   "metadata": {},
   "source": [
    "** Identity Matrix **"
   ]
  },
  {
   "cell_type": "code",
   "execution_count": 43,
   "metadata": {},
   "outputs": [
    {
     "data": {
      "text/plain": [
       "array([[1., 0., 0., 0., 0.],\n",
       "       [0., 1., 0., 0., 0.],\n",
       "       [0., 0., 1., 0., 0.],\n",
       "       [0., 0., 0., 1., 0.],\n",
       "       [0., 0., 0., 0., 1.]])"
      ]
     },
     "execution_count": 43,
     "metadata": {},
     "output_type": "execute_result"
    }
   ],
   "source": [
    "id5 = np.eye(5)\n",
    "id5"
   ]
  },
  {
   "cell_type": "markdown",
   "metadata": {},
   "source": [
    "** Ones Matrix **"
   ]
  },
  {
   "cell_type": "code",
   "execution_count": 48,
   "metadata": {},
   "outputs": [
    {
     "data": {
      "text/plain": [
       "array([[1., 1., 1., 1.],\n",
       "       [1., 1., 1., 1.],\n",
       "       [1., 1., 1., 1.],\n",
       "       [1., 1., 1., 1.],\n",
       "       [1., 1., 1., 1.]])"
      ]
     },
     "execution_count": 48,
     "metadata": {},
     "output_type": "execute_result"
    }
   ],
   "source": [
    "ones5x4 = np.ones((5,4))\n",
    "ones5x4"
   ]
  },
  {
   "cell_type": "markdown",
   "metadata": {},
   "source": [
    "** Zeroes Matrix **"
   ]
  },
  {
   "cell_type": "code",
   "execution_count": 50,
   "metadata": {},
   "outputs": [
    {
     "data": {
      "text/plain": [
       "array([[0., 0., 0., 0.],\n",
       "       [0., 0., 0., 0.],\n",
       "       [0., 0., 0., 0.],\n",
       "       [0., 0., 0., 0.],\n",
       "       [0., 0., 0., 0.]])"
      ]
     },
     "execution_count": 50,
     "metadata": {},
     "output_type": "execute_result"
    }
   ],
   "source": [
    "zeroes5x4 = np.zeros((5,4))\n",
    "zeroes5x4"
   ]
  },
  {
   "cell_type": "markdown",
   "metadata": {},
   "source": [
    "** Power (element wise)**"
   ]
  },
  {
   "cell_type": "code",
   "execution_count": 54,
   "metadata": {},
   "outputs": [
    {
     "data": {
      "text/plain": [
       "array([[ 1,  4],\n",
       "       [ 9, 16],\n",
       "       [25, 36]], dtype=int32)"
      ]
     },
     "execution_count": 54,
     "metadata": {},
     "output_type": "execute_result"
    }
   ],
   "source": [
    "A**2"
   ]
  },
  {
   "cell_type": "markdown",
   "metadata": {},
   "source": [
    "** Import data **"
   ]
  },
  {
   "cell_type": "code",
   "execution_count": 31,
   "metadata": {
    "scrolled": true
   },
   "outputs": [
    {
     "data": {
      "text/plain": [
       "array([[2.10400e+03, 3.00000e+00, 3.99900e+05],\n",
       "       [1.60000e+03, 3.00000e+00, 3.29900e+05],\n",
       "       [2.40000e+03, 3.00000e+00, 3.69000e+05],\n",
       "       [1.41600e+03, 2.00000e+00, 2.32000e+05],\n",
       "       [3.00000e+03, 4.00000e+00, 5.39900e+05],\n",
       "       [1.98500e+03, 4.00000e+00, 2.99900e+05],\n",
       "       [1.53400e+03, 3.00000e+00, 3.14900e+05],\n",
       "       [1.42700e+03, 3.00000e+00, 1.98999e+05],\n",
       "       [1.38000e+03, 3.00000e+00, 2.12000e+05],\n",
       "       [1.49400e+03, 3.00000e+00, 2.42500e+05],\n",
       "       [1.94000e+03, 4.00000e+00, 2.39999e+05],\n",
       "       [2.00000e+03, 3.00000e+00, 3.47000e+05],\n",
       "       [1.89000e+03, 3.00000e+00, 3.29999e+05],\n",
       "       [4.47800e+03, 5.00000e+00, 6.99900e+05],\n",
       "       [1.26800e+03, 3.00000e+00, 2.59900e+05],\n",
       "       [2.30000e+03, 4.00000e+00, 4.49900e+05],\n",
       "       [1.32000e+03, 2.00000e+00, 2.99900e+05],\n",
       "       [1.23600e+03, 3.00000e+00, 1.99900e+05],\n",
       "       [2.60900e+03, 4.00000e+00, 4.99998e+05],\n",
       "       [3.03100e+03, 4.00000e+00, 5.99000e+05],\n",
       "       [1.76700e+03, 3.00000e+00, 2.52900e+05],\n",
       "       [1.88800e+03, 2.00000e+00, 2.55000e+05],\n",
       "       [1.60400e+03, 3.00000e+00, 2.42900e+05],\n",
       "       [1.96200e+03, 4.00000e+00, 2.59900e+05],\n",
       "       [3.89000e+03, 3.00000e+00, 5.73900e+05],\n",
       "       [1.10000e+03, 3.00000e+00, 2.49900e+05],\n",
       "       [1.45800e+03, 3.00000e+00, 4.64500e+05],\n",
       "       [2.52600e+03, 3.00000e+00, 4.69000e+05],\n",
       "       [2.20000e+03, 3.00000e+00, 4.75000e+05],\n",
       "       [2.63700e+03, 3.00000e+00, 2.99900e+05],\n",
       "       [1.83900e+03, 2.00000e+00, 3.49900e+05],\n",
       "       [1.00000e+03, 1.00000e+00, 1.69900e+05],\n",
       "       [2.04000e+03, 4.00000e+00, 3.14900e+05],\n",
       "       [3.13700e+03, 3.00000e+00, 5.79900e+05],\n",
       "       [1.81100e+03, 4.00000e+00, 2.85900e+05],\n",
       "       [1.43700e+03, 3.00000e+00, 2.49900e+05],\n",
       "       [1.23900e+03, 3.00000e+00, 2.29900e+05],\n",
       "       [2.13200e+03, 4.00000e+00, 3.45000e+05],\n",
       "       [4.21500e+03, 4.00000e+00, 5.49000e+05],\n",
       "       [2.16200e+03, 4.00000e+00, 2.87000e+05],\n",
       "       [1.66400e+03, 2.00000e+00, 3.68500e+05],\n",
       "       [2.23800e+03, 3.00000e+00, 3.29900e+05],\n",
       "       [2.56700e+03, 4.00000e+00, 3.14000e+05],\n",
       "       [1.20000e+03, 3.00000e+00, 2.99000e+05],\n",
       "       [8.52000e+02, 2.00000e+00, 1.79900e+05],\n",
       "       [1.85200e+03, 4.00000e+00, 2.99900e+05],\n",
       "       [1.20300e+03, 3.00000e+00, 2.39500e+05]])"
      ]
     },
     "execution_count": 31,
     "metadata": {},
     "output_type": "execute_result"
    }
   ],
   "source": [
    "data = np.genfromtxt('ex1data2.txt', delimiter=',')\n",
    "data"
   ]
  },
  {
   "cell_type": "code",
   "execution_count": 33,
   "metadata": {},
   "outputs": [
    {
     "data": {
      "text/plain": [
       "(47, 3)"
      ]
     },
     "execution_count": 33,
     "metadata": {},
     "output_type": "execute_result"
    }
   ],
   "source": [
    "data.shape"
   ]
  },
  {
   "cell_type": "markdown",
   "metadata": {},
   "source": [
    "** Select rows or columns **"
   ]
  },
  {
   "cell_type": "code",
   "execution_count": 67,
   "metadata": {},
   "outputs": [
    {
     "data": {
      "text/plain": [
       "array([399900., 329900., 369000., 232000., 539900., 299900., 314900.,\n",
       "       198999., 212000., 242500., 239999., 347000., 329999., 699900.,\n",
       "       259900., 449900., 299900., 199900., 499998., 599000., 252900.,\n",
       "       255000., 242900., 259900., 573900., 249900., 464500., 469000.,\n",
       "       475000., 299900., 349900., 169900., 314900., 579900., 285900.,\n",
       "       249900., 229900., 345000., 549000., 287000., 368500., 329900.,\n",
       "       314000., 299000., 179900., 299900., 239500.])"
      ]
     },
     "execution_count": 67,
     "metadata": {},
     "output_type": "execute_result"
    }
   ],
   "source": [
    "seccol = data[:,2]\n",
    "seccol"
   ]
  },
  {
   "cell_type": "code",
   "execution_count": 70,
   "metadata": {},
   "outputs": [
    {
     "data": {
      "text/plain": [
       "array([2.40e+03, 3.00e+00, 3.69e+05])"
      ]
     },
     "execution_count": 70,
     "metadata": {},
     "output_type": "execute_result"
    }
   ],
   "source": [
    "secrow = data[2,:]\n",
    "secrow"
   ]
  },
  {
   "cell_type": "code",
   "execution_count": 72,
   "metadata": {},
   "outputs": [
    {
     "name": "stdout",
     "output_type": "stream",
     "text": [
      "(47,)\n",
      "(3,)\n"
     ]
    }
   ],
   "source": [
    "# note one directional vectors are not nx1  or 1xn they are just n\n",
    "print(seccol.shape)\n",
    "print(secrow.shape)"
   ]
  },
  {
   "cell_type": "code",
   "execution_count": 61,
   "metadata": {},
   "outputs": [
    {
     "data": {
      "text/plain": [
       "(47, 1)"
      ]
     },
     "execution_count": 61,
     "metadata": {},
     "output_type": "execute_result"
    }
   ],
   "source": []
  },
  {
   "cell_type": "code",
   "execution_count": null,
   "metadata": {},
   "outputs": [],
   "source": []
  },
  {
   "cell_type": "markdown",
   "metadata": {},
   "source": [
    "** Concatenates columns **"
   ]
  },
  {
   "cell_type": "code",
   "execution_count": 75,
   "metadata": {
    "scrolled": true
   },
   "outputs": [
    {
     "data": {
      "text/plain": [
       "array([[1.00000e+00, 2.10400e+03, 3.00000e+00, 3.99900e+05],\n",
       "       [1.00000e+00, 1.60000e+03, 3.00000e+00, 3.29900e+05],\n",
       "       [1.00000e+00, 2.40000e+03, 3.00000e+00, 3.69000e+05],\n",
       "       [1.00000e+00, 1.41600e+03, 2.00000e+00, 2.32000e+05],\n",
       "       [1.00000e+00, 3.00000e+03, 4.00000e+00, 5.39900e+05],\n",
       "       [1.00000e+00, 1.98500e+03, 4.00000e+00, 2.99900e+05],\n",
       "       [1.00000e+00, 1.53400e+03, 3.00000e+00, 3.14900e+05],\n",
       "       [1.00000e+00, 1.42700e+03, 3.00000e+00, 1.98999e+05],\n",
       "       [1.00000e+00, 1.38000e+03, 3.00000e+00, 2.12000e+05],\n",
       "       [1.00000e+00, 1.49400e+03, 3.00000e+00, 2.42500e+05],\n",
       "       [1.00000e+00, 1.94000e+03, 4.00000e+00, 2.39999e+05],\n",
       "       [1.00000e+00, 2.00000e+03, 3.00000e+00, 3.47000e+05],\n",
       "       [1.00000e+00, 1.89000e+03, 3.00000e+00, 3.29999e+05],\n",
       "       [1.00000e+00, 4.47800e+03, 5.00000e+00, 6.99900e+05],\n",
       "       [1.00000e+00, 1.26800e+03, 3.00000e+00, 2.59900e+05],\n",
       "       [1.00000e+00, 2.30000e+03, 4.00000e+00, 4.49900e+05],\n",
       "       [1.00000e+00, 1.32000e+03, 2.00000e+00, 2.99900e+05],\n",
       "       [1.00000e+00, 1.23600e+03, 3.00000e+00, 1.99900e+05],\n",
       "       [1.00000e+00, 2.60900e+03, 4.00000e+00, 4.99998e+05],\n",
       "       [1.00000e+00, 3.03100e+03, 4.00000e+00, 5.99000e+05],\n",
       "       [1.00000e+00, 1.76700e+03, 3.00000e+00, 2.52900e+05],\n",
       "       [1.00000e+00, 1.88800e+03, 2.00000e+00, 2.55000e+05],\n",
       "       [1.00000e+00, 1.60400e+03, 3.00000e+00, 2.42900e+05],\n",
       "       [1.00000e+00, 1.96200e+03, 4.00000e+00, 2.59900e+05],\n",
       "       [1.00000e+00, 3.89000e+03, 3.00000e+00, 5.73900e+05],\n",
       "       [1.00000e+00, 1.10000e+03, 3.00000e+00, 2.49900e+05],\n",
       "       [1.00000e+00, 1.45800e+03, 3.00000e+00, 4.64500e+05],\n",
       "       [1.00000e+00, 2.52600e+03, 3.00000e+00, 4.69000e+05],\n",
       "       [1.00000e+00, 2.20000e+03, 3.00000e+00, 4.75000e+05],\n",
       "       [1.00000e+00, 2.63700e+03, 3.00000e+00, 2.99900e+05],\n",
       "       [1.00000e+00, 1.83900e+03, 2.00000e+00, 3.49900e+05],\n",
       "       [1.00000e+00, 1.00000e+03, 1.00000e+00, 1.69900e+05],\n",
       "       [1.00000e+00, 2.04000e+03, 4.00000e+00, 3.14900e+05],\n",
       "       [1.00000e+00, 3.13700e+03, 3.00000e+00, 5.79900e+05],\n",
       "       [1.00000e+00, 1.81100e+03, 4.00000e+00, 2.85900e+05],\n",
       "       [1.00000e+00, 1.43700e+03, 3.00000e+00, 2.49900e+05],\n",
       "       [1.00000e+00, 1.23900e+03, 3.00000e+00, 2.29900e+05],\n",
       "       [1.00000e+00, 2.13200e+03, 4.00000e+00, 3.45000e+05],\n",
       "       [1.00000e+00, 4.21500e+03, 4.00000e+00, 5.49000e+05],\n",
       "       [1.00000e+00, 2.16200e+03, 4.00000e+00, 2.87000e+05],\n",
       "       [1.00000e+00, 1.66400e+03, 2.00000e+00, 3.68500e+05],\n",
       "       [1.00000e+00, 2.23800e+03, 3.00000e+00, 3.29900e+05],\n",
       "       [1.00000e+00, 2.56700e+03, 4.00000e+00, 3.14000e+05],\n",
       "       [1.00000e+00, 1.20000e+03, 3.00000e+00, 2.99000e+05],\n",
       "       [1.00000e+00, 8.52000e+02, 2.00000e+00, 1.79900e+05],\n",
       "       [1.00000e+00, 1.85200e+03, 4.00000e+00, 2.99900e+05],\n",
       "       [1.00000e+00, 1.20300e+03, 3.00000e+00, 2.39500e+05]])"
      ]
     },
     "execution_count": 75,
     "metadata": {},
     "output_type": "execute_result"
    }
   ],
   "source": [
    "# Prepare a ones vector of the same size to be appended to the data array\n",
    "rows = data.shape[0]\n",
    "onesnx1=np.ones((rows,1))\n",
    "onesnx1.shape\n",
    "\n",
    "# Three alternatives:\n",
    "X = np.c_[onesnx1,data]\n",
    "X = np.hstack((onesnx1,data))\n",
    "X = np.concatenate((onesnx1,data),1)\n",
    "X"
   ]
  },
  {
   "cell_type": "markdown",
   "metadata": {},
   "source": [
    "** Mean of each column in an array **"
   ]
  },
  {
   "cell_type": "code",
   "execution_count": 83,
   "metadata": {},
   "outputs": [
    {
     "data": {
      "text/plain": [
       "array([2.00068085e+03, 3.17021277e+00, 3.40412660e+05])"
      ]
     },
     "execution_count": 83,
     "metadata": {},
     "output_type": "execute_result"
    }
   ],
   "source": [
    "data.mean(0)"
   ]
  },
  {
   "cell_type": "code",
   "execution_count": 85,
   "metadata": {},
   "outputs": [
    {
     "data": {
      "text/plain": [
       "array([7.86202619e+02, 7.52842809e-01, 1.23702536e+05])"
      ]
     },
     "execution_count": 85,
     "metadata": {},
     "output_type": "execute_result"
    }
   ],
   "source": [
    "data.std(0)"
   ]
  },
  {
   "cell_type": "code",
   "execution_count": null,
   "metadata": {},
   "outputs": [],
   "source": []
  }
 ],
 "metadata": {
  "kernelspec": {
   "display_name": "Python 3",
   "language": "python",
   "name": "python3"
  },
  "language_info": {
   "codemirror_mode": {
    "name": "ipython",
    "version": 3
   },
   "file_extension": ".py",
   "mimetype": "text/x-python",
   "name": "python",
   "nbconvert_exporter": "python",
   "pygments_lexer": "ipython3",
   "version": "3.6.5"
  }
 },
 "nbformat": 4,
 "nbformat_minor": 2
}
