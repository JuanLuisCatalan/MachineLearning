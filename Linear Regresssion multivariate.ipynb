{
 "cells": [
  {
   "cell_type": "code",
   "execution_count": 1,
   "metadata": {},
   "outputs": [],
   "source": [
    "import numpy as np\n",
    "import scipy.linalg as linalg\n",
    "import matplotlib.pyplot as plt"
   ]
  },
  {
   "cell_type": "code",
   "execution_count": 2,
   "metadata": {},
   "outputs": [],
   "source": [
    "# Define the dataset:\n",
    "# The data array must be a m x (n+1), where:\n",
    "# m is the number of training examples\n",
    "# n is the number features of the X vector from n=1 to n (does not count x0)\n",
    "# the array's last column is the 'y' vector\n",
    "\n",
    "data = np.genfromtxt('ex1data2.txt', delimiter=',')"
   ]
  },
  {
   "cell_type": "code",
   "execution_count": 3,
   "metadata": {},
   "outputs": [],
   "source": [
    "# Extract parameters\n",
    "m = data.shape[0] # number of training examples\n",
    "n = data.shape[1]-1 # number of features \n",
    "y = data[:,-1].reshape(m,1) # y vector note that needs to be resphaped to mx1\n",
    "x0 = np.ones((m,1)) # x0 vector, all ones\n",
    "x = data[:,0:n] # Matrix X1 to Xn values matrix wihtout x0\n",
    "X = np.c_[x0,x] # Maxtrix X\n",
    "theta = np.zeros((n+1,1)) # theta initialised to zeroes"
   ]
  },
  {
   "cell_type": "code",
   "execution_count": 4,
   "metadata": {
    "scrolled": true
   },
   "outputs": [],
   "source": [
    "# Normalise x\n",
    "def featureNorm (x):\n",
    "    xmean = x.mean(0)\n",
    "    xstd = x.std(0)\n",
    "    xnorm = (x - xmean)/xstd\n",
    "    return xnorm, xmean, xstd\n",
    "\n",
    "x_norm = featureNorm(x)[0]\n",
    "x_mean = featureNorm(x)[1]\n",
    "x_std = featureNorm(x)[2]\n",
    "\n",
    "X_norm = np.c_[x0,x_norm]\n",
    "\n"
   ]
  },
  {
   "cell_type": "code",
   "execution_count": 5,
   "metadata": {},
   "outputs": [
    {
     "name": "stdout",
     "output_type": "stream",
     "text": [
      "[[340080.2253366 ]\n",
      " [104612.95939416]\n",
      " [ -1743.5451211 ]]\n"
     ]
    },
    {
     "data": {
      "image/png": "[encoded data removed]",
      "text/plain": [
       "<Figure size 432x288 with 1 Axes>"
      ]
     },
     "metadata": {},
     "output_type": "display_data"
    }
   ],
   "source": [
    "def J(X,theta,y):\n",
    "    '''\n",
    "    J is the cost function and returns the error of a given theta vector, for the training sample X and the observed values y\n",
    "    '''\n",
    "    m = X.shape[0] # the number of training examples\n",
    "    um = np.ones((1,m)) # ones vector size m\n",
    "    return (um @ ((X @ theta - y)**2))/(2*m)\n",
    "\n",
    "def gDesc(X,theta,y,alpha,it):\n",
    "    '''\n",
    "    Gradient descent iterative funtions where alpha is the learning rate and it the number of iterations\n",
    "    Returns a list where the first element is theta a the end of the interations proces and the second elemnt if the history of cost stored in an array\n",
    "    '''\n",
    "    m = X.shape[0] # the number of training examples\n",
    "    c = J(X,theta,y) # the cost of the input theta, typically an zeroes initialised theta is provided\n",
    "    for i in range(it):\n",
    "        error = (X @ theta) - y\n",
    "        errorsim = (X.conj().T) @ error\n",
    "        errorsimalpham = alpha/m * errorsim\n",
    "        theta = theta - errorsimalpham #the current iteration theta with simultaneous update\n",
    "        c = np.r_[c,J(X,theta,y)] # The history of cost updated to the current theta stored in a vector\n",
    "    return theta, c\n",
    "\n",
    "\n",
    "it = 10# number of iterations\n",
    "alpha = 0.5 # learning rate\n",
    "theta = np.zeros((n+1,1)) # theta initialised to zeroes\n",
    "\n",
    "results = gDesc(X_norm,theta,y,alpha,it)\n",
    "\n",
    "theta = results[0]\n",
    "cost = results[1]\n",
    "\n",
    "print(theta)\n",
    "\n",
    "plt.plot(cost)\n",
    "plt.show()"
   ]
  },
  {
   "cell_type": "code",
   "execution_count": 6,
   "metadata": {
    "scrolled": true
   },
   "outputs": [
    {
     "data": {
      "text/plain": [
       "array([[293812.46107609]])"
      ]
     },
     "execution_count": 6,
     "metadata": {},
     "output_type": "execute_result"
    }
   ],
   "source": [
    "# Predictions\n",
    "x1 = 1650 # sq feet \n",
    "x2 = 3 # number of rooms\n",
    "\n",
    "Xin = np.array(([x1,x2]))\n",
    "Xin_norm = (Xin - x_mean)/ x_std\n",
    "Xin_norm = np.r_[1,Xin_norm]\n",
    "Xin_norm= Xin_norm.reshape(1,3)\n",
    "Xin = np.r_[1,Xin]\n",
    "\n",
    "yout= Xin_norm @ theta\n",
    "yout"
   ]
  },
  {
   "cell_type": "code",
   "execution_count": 7,
   "metadata": {},
   "outputs": [],
   "source": [
    "#Normal equations"
   ]
  },
  {
   "cell_type": "code",
   "execution_count": 8,
   "metadata": {},
   "outputs": [
    {
     "data": {
      "text/plain": [
       "array([[89597.90954433],\n",
       "       [  139.21067402],\n",
       "       [-8738.01911277]])"
      ]
     },
     "execution_count": 8,
     "metadata": {},
     "output_type": "execute_result"
    }
   ],
   "source": [
    "ThetaNorm = linalg.pinv(X.conj().T @ X) @ X.conj().T @ y\n",
    "ThetaNorm"
   ]
  },
  {
   "cell_type": "code",
   "execution_count": 9,
   "metadata": {},
   "outputs": [
    {
     "data": {
      "text/plain": [
       "array([293081.46433506])"
      ]
     },
     "execution_count": 9,
     "metadata": {},
     "output_type": "execute_result"
    }
   ],
   "source": [
    "# Prediction:\n",
    "Xin @ ThetaNorm"
   ]
  },
  {
   "cell_type": "code",
   "execution_count": null,
   "metadata": {},
   "outputs": [],
   "source": []
  }
 ],
 "metadata": {
  "kernelspec": {
   "display_name": "Python 3",
   "language": "python",
   "name": "python3"
  },
  "language_info": {
   "codemirror_mode": {
    "name": "ipython",
    "version": 3
   },
   "file_extension": ".py",
   "mimetype": "text/x-python",
   "name": "python",
   "nbconvert_exporter": "python",
   "pygments_lexer": "ipython3",
   "version": "3.6.5"
  }
 },
 "nbformat": 4,
 "nbformat_minor": 2
}
