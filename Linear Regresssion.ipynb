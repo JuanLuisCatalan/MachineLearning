{
 "cells": [
  {
   "cell_type": "code",
   "execution_count": 1,
   "metadata": {},
   "outputs": [],
   "source": [
    "import numpy as np\n",
    "import scipy.linalg as linalg\n",
    "import matplotlib.pyplot as plt"
   ]
  },
  {
   "cell_type": "code",
   "execution_count": 2,
   "metadata": {},
   "outputs": [],
   "source": [
    "# Define the dataset:\n",
    "# The data array must be a m x (n+1), where:\n",
    "# m is the number of training examples\n",
    "# n is the number features of the X vector\n",
    "# the array's last column of array is the 'y' vector\n",
    "\n",
    "data = np.genfromtxt('ex1data1.txt', delimiter=',')"
   ]
  },
  {
   "cell_type": "code",
   "execution_count": 3,
   "metadata": {
    "scrolled": true
   },
   "outputs": [],
   "source": [
    "# Extract parameters\n",
    "m = data.shape[0] # number of training examples\n",
    "n = data.shape[1]-1 # number of features \n",
    "y = data[:,-1].reshape(m,1) # y vector note that needs to be resphaped to mx1\n",
    "x0 = np.ones((m,1)) # x0 vector, all ones\n",
    "x = data[:,0:n] # Matrix X1 to Xn values matrix wihtout x0\n",
    "X = np.c_[x0,x] # Maxtrix X\n",
    "theta = np.zeros((n+1,1)) # theta initialised to zeroes"
   ]
  },
  {
   "cell_type": "code",
   "execution_count": 4,
   "metadata": {},
   "outputs": [],
   "source": [
    "def J(X,theta,y):\n",
    "    '''\n",
    "    J is the cost function and returns the error of a given theta vector, for the training sample X and the observed values y\n",
    "    '''\n",
    "    m = X.shape[0] # the number of training examples\n",
    "    um = np.ones((1,m)) # ones vector size m\n",
    "    return (um@((X@theta - y)**2))/(2*m)\n",
    "\n",
    "def gDesc(X,theta,y,alpha,it):\n",
    "    '''\n",
    "    Gradient Descent iterative formula where alpha represent the learning rate and it the number of iterations\n",
    "    '''\n",
    "    m = X.shape[0] # the number of training examples\n",
    "    c = J(X,theta,y) # the cost for the input theta (typically initialised to zeroes)\n",
    "    for i in range(it):\n",
    "        theta = theta - alpha/m * X.conj().T @ (X @ theta - y)\ # The step current iteration theta updated value with simultaneous update\n",
    "        c = np.r_[c,J(X,theta,y)]# cost history stored as vector\n" ,
    "    return theta, c\n",
    "\n",
    "\n",
    "\n",
    "\n"
   ]
  },
  {
   "cell_type": "code",
   "execution_count": 5,
   "metadata": {
    "scrolled": true
   },
   "outputs": [
    {
     "name": "stdout",
     "output_type": "stream",
     "text": [
      "[[-3.63029144]\n",
      " [ 1.16636235]]\n"
     ]
    },
    {
     "data": {
      "image/png": "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\n",
      "text/plain": [
       "<Figure size 432x288 with 1 Axes>"
      ]
     },
     "metadata": {},
     "output_type": "display_data"
    }
   ],
   "source": [
    "it = 1500\n",
    "alpha = 0.01\n",
    "theta = np.zeros((n+1,1)) # theta initialised to zeroes\n",
    "\n",
    "theta = gDesc(X,theta,y,alpha,it)[0]\n",
    "cost = gDesc(X,theta,y,alpha,it)[1]\n",
    "\n",
    "print(theta)\n",
    "\n",
    "plt.plot(cost)\n",
    "plt.show()"
   ]
  },
  {
   "cell_type": "code",
   "execution_count": null,
   "metadata": {},
   "outputs": [],
   "source": []
  }
 ],
 "metadata": {
  "kernelspec": {
   "display_name": "Python 3",
   "language": "python",
   "name": "python3"
  },
  "language_info": {
   "codemirror_mode": {
    "name": "ipython",
    "version": 3
   },
   "file_extension": ".py",
   "mimetype": "text/x-python",
   "name": "python",
   "nbconvert_exporter": "python",
   "pygments_lexer": "ipython3",
   "version": "3.6.5"
  }
 },
 "nbformat": 4,
 "nbformat_minor": 2
}
