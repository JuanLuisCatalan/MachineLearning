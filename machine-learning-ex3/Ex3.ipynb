{
 "cells": [
  {
   "cell_type": "code",
   "execution_count": 1,
   "metadata": {},
   "outputs": [],
   "source": [
    "import numpy as np"
   ]
  },
  {
   "cell_type": "code",
   "execution_count": 85,
   "metadata": {},
   "outputs": [
    {
     "name": "stdout",
     "output_type": "stream",
     "text": [
      "[[0.7648194]]\n"
     ]
    }
   ],
   "source": [
    "\n",
    "def sig (x):\n",
    "    return 1/(1+np.exp(-x))\n",
    "\n",
    "Ones = np.ones((5,1))\n",
    "X = np.linspace(1,15,15)/10\n",
    "X = X.reshape((3,5), order='c').T\n",
    "X_t = np.c_[Ones,X]\n",
    "theta_t = np.array(([-2],[-1],[1],[2]))\n",
    "lambda_t = 3\n",
    "y_t = np.array(([True],[False],[True],[False],[True]))\n",
    "\n",
    "\n",
    "\n",
    "def lrCostFunction (theta,X,y,lam):\n",
    "    h0 = sig(X @ theta)\n",
    "    m, n = X.shape\n",
    "    term1 = y.T @ np.log(h0)\n",
    "    term2 = (1-y).T @ np.log(1-h0)\n",
    "    nonorm = -(term1 + term2)/m\n",
    "    norm = lam/(2*m * np.sum(theta**2))\n",
    "    J = nonorm + norm\n",
    "    return J\n",
    "\n",
    "print(lrCostFunction(theta_t, X_t,y_t,lambda_t))\n",
    "    \n"
   ]
  },
  {
   "cell_type": "code",
   "execution_count": 44,
   "metadata": {},
   "outputs": [
    {
     "data": {
      "text/plain": [
       "array([[1. , 0.1, 0.6, 1.1],\n",
       "       [1. , 0.2, 0.7, 1.2],\n",
       "       [1. , 0.3, 0.8, 1.3],\n",
       "       [1. , 0.4, 0.9, 1.4],\n",
       "       [1. , 0.5, 1. , 1.5]])"
      ]
     },
     "execution_count": 44,
     "metadata": {},
     "output_type": "execute_result"
    }
   ],
   "source": [
    "X_t"
   ]
  },
  {
   "cell_type": "code",
   "execution_count": 54,
   "metadata": {},
   "outputs": [
    {
     "data": {
      "text/plain": [
       "array([[-2],\n",
       "       [-1],\n",
       "       [ 1],\n",
       "       [ 2]])"
      ]
     },
     "execution_count": 54,
     "metadata": {},
     "output_type": "execute_result"
    }
   ],
   "source": [
    "theta"
   ]
  },
  {
   "cell_type": "code",
   "execution_count": 58,
   "metadata": {},
   "outputs": [
    {
     "data": {
      "text/plain": [
       "3"
      ]
     },
     "execution_count": 58,
     "metadata": {},
     "output_type": "execute_result"
    }
   ],
   "source": [
    "j,k = X.shape\n",
    "k"
   ]
  }
 ],
 "metadata": {
  "kernelspec": {
   "display_name": "Python 3",
   "language": "python",
   "name": "python3"
  },
  "language_info": {
   "codemirror_mode": {
    "name": "ipython",
    "version": 3
   },
   "file_extension": ".py",
   "mimetype": "text/x-python",
   "name": "python",
   "nbconvert_exporter": "python",
   "pygments_lexer": "ipython3",
   "version": "3.6.5"
  }
 },
 "nbformat": 4,
 "nbformat_minor": 2
}
